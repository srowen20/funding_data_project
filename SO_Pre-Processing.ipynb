{
 "cells": [
  {
   "cell_type": "markdown",
   "id": "4a838401",
   "metadata": {},
   "source": [
    "# Import Modules"
   ]
  },
  {
   "cell_type": "code",
   "execution_count": 1,
   "id": "9c586735",
   "metadata": {},
   "outputs": [],
   "source": [
    "import pandas as pd\n",
    "import matplotlib.pyplot as plt\n",
    "import csv\n",
    "import numpy as np\n",
    "import seaborn as sns"
   ]
  },
  {
   "cell_type": "markdown",
   "id": "e2ef76b2",
   "metadata": {},
   "source": [
    "# Read Data Files"
   ]
  },
  {
   "cell_type": "code",
   "execution_count": 2,
   "id": "ae682bb5",
   "metadata": {},
   "outputs": [],
   "source": [
    "# Companies\n",
    "companies_df = pd.read_csv(\"AB_DSE_Screening_task/companies.txt\", sep=\"\\t\", encoding = \"ISO-8859-1\")\n",
    "\n",
    "# Investments\n",
    "investment_df = pd.read_csv(\"AB_DSE_Screening_task/investment_rounds.csv\", encoding=\"ISO-8859-1\")\n",
    "\n",
    "# Mapping\n",
    "mapping_df = pd.read_csv(\"AB_DSE_Screening_task/mapping.csv\", encoding=\"Latin-1\")"
   ]
  },
  {
   "cell_type": "markdown",
   "id": "05bf6214",
   "metadata": {},
   "source": [
    "# Initial Exploration and Cleaning\n",
    "\n",
    "Keeping all datasets separate initially to clean the data and make it consistent.\n",
    "\n",
    "The data must be in the same format when merging to ensure the primary keys are matched correctly. "
   ]
  },
  {
   "cell_type": "markdown",
   "id": "6faa3560",
   "metadata": {},
   "source": [
    "## companies.txt"
   ]
  },
  {
   "cell_type": "code",
   "execution_count": 3,
   "id": "c1d52996",
   "metadata": {
    "scrolled": true
   },
   "outputs": [
    {
     "data": {
      "text/html": [
       "<div>\n",
       "<style scoped>\n",
       "    .dataframe tbody tr th:only-of-type {\n",
       "        vertical-align: middle;\n",
       "    }\n",
       "\n",
       "    .dataframe tbody tr th {\n",
       "        vertical-align: top;\n",
       "    }\n",
       "\n",
       "    .dataframe thead th {\n",
       "        text-align: right;\n",
       "    }\n",
       "</style>\n",
       "<table border=\"1\" class=\"dataframe\">\n",
       "  <thead>\n",
       "    <tr style=\"text-align: right;\">\n",
       "      <th></th>\n",
       "      <th>permalink</th>\n",
       "      <th>name</th>\n",
       "      <th>homepage_url</th>\n",
       "      <th>category_list</th>\n",
       "      <th>status</th>\n",
       "      <th>country_code</th>\n",
       "      <th>state_code</th>\n",
       "      <th>region</th>\n",
       "      <th>city</th>\n",
       "      <th>founded_at</th>\n",
       "    </tr>\n",
       "  </thead>\n",
       "  <tbody>\n",
       "    <tr>\n",
       "      <th>0</th>\n",
       "      <td>/Organization/-Fame</td>\n",
       "      <td>#fame</td>\n",
       "      <td>http://livfame.com</td>\n",
       "      <td>Media</td>\n",
       "      <td>operating</td>\n",
       "      <td>IND</td>\n",
       "      <td>16</td>\n",
       "      <td>Mumbai</td>\n",
       "      <td>Mumbai</td>\n",
       "      <td>NaN</td>\n",
       "    </tr>\n",
       "    <tr>\n",
       "      <th>1</th>\n",
       "      <td>/Organization/-Qounter</td>\n",
       "      <td>:Qounter</td>\n",
       "      <td>http://www.qounter.com</td>\n",
       "      <td>Application Platforms|Real Time|Social Network...</td>\n",
       "      <td>operating</td>\n",
       "      <td>USA</td>\n",
       "      <td>DE</td>\n",
       "      <td>DE - Other</td>\n",
       "      <td>Delaware City</td>\n",
       "      <td>04-09-2014</td>\n",
       "    </tr>\n",
       "    <tr>\n",
       "      <th>2</th>\n",
       "      <td>/Organization/-The-One-Of-Them-Inc-</td>\n",
       "      <td>(THE) ONE of THEM,Inc.</td>\n",
       "      <td>http://oneofthem.jp</td>\n",
       "      <td>Apps|Games|Mobile</td>\n",
       "      <td>operating</td>\n",
       "      <td>NaN</td>\n",
       "      <td>NaN</td>\n",
       "      <td>NaN</td>\n",
       "      <td>NaN</td>\n",
       "      <td>NaN</td>\n",
       "    </tr>\n",
       "    <tr>\n",
       "      <th>3</th>\n",
       "      <td>/Organization/0-6-Com</td>\n",
       "      <td>0-6.com</td>\n",
       "      <td>http://www.0-6.com</td>\n",
       "      <td>Curated Web</td>\n",
       "      <td>operating</td>\n",
       "      <td>CHN</td>\n",
       "      <td>22</td>\n",
       "      <td>Beijing</td>\n",
       "      <td>Beijing</td>\n",
       "      <td>01-01-2007</td>\n",
       "    </tr>\n",
       "    <tr>\n",
       "      <th>4</th>\n",
       "      <td>/Organization/004-Technologies</td>\n",
       "      <td>004 Technologies</td>\n",
       "      <td>http://004gmbh.de/en/004-interact</td>\n",
       "      <td>Software</td>\n",
       "      <td>operating</td>\n",
       "      <td>USA</td>\n",
       "      <td>IL</td>\n",
       "      <td>Springfield, Illinois</td>\n",
       "      <td>Champaign</td>\n",
       "      <td>01-01-2010</td>\n",
       "    </tr>\n",
       "  </tbody>\n",
       "</table>\n",
       "</div>"
      ],
      "text/plain": [
       "                             permalink                    name  \\\n",
       "0                  /Organization/-Fame                   #fame   \n",
       "1               /Organization/-Qounter                :Qounter   \n",
       "2  /Organization/-The-One-Of-Them-Inc-  (THE) ONE of THEM,Inc.   \n",
       "3                /Organization/0-6-Com                 0-6.com   \n",
       "4       /Organization/004-Technologies        004 Technologies   \n",
       "\n",
       "                        homepage_url  \\\n",
       "0                 http://livfame.com   \n",
       "1             http://www.qounter.com   \n",
       "2                http://oneofthem.jp   \n",
       "3                 http://www.0-6.com   \n",
       "4  http://004gmbh.de/en/004-interact   \n",
       "\n",
       "                                       category_list     status country_code  \\\n",
       "0                                              Media  operating          IND   \n",
       "1  Application Platforms|Real Time|Social Network...  operating          USA   \n",
       "2                                  Apps|Games|Mobile  operating          NaN   \n",
       "3                                        Curated Web  operating          CHN   \n",
       "4                                           Software  operating          USA   \n",
       "\n",
       "  state_code                 region           city  founded_at  \n",
       "0         16                 Mumbai         Mumbai         NaN  \n",
       "1         DE             DE - Other  Delaware City  04-09-2014  \n",
       "2        NaN                    NaN            NaN         NaN  \n",
       "3         22                Beijing        Beijing  01-01-2007  \n",
       "4         IL  Springfield, Illinois      Champaign  01-01-2010  "
      ]
     },
     "execution_count": 3,
     "metadata": {},
     "output_type": "execute_result"
    }
   ],
   "source": [
    "companies_df.head()"
   ]
  },
  {
   "cell_type": "markdown",
   "id": "33a143ee",
   "metadata": {},
   "source": [
    "#### Insights:\n",
    "- There are mixture of cases being used. These need to be standardised for each column and carried through to the other datasets\n",
    "- category_list can contain more than one category and is split by |. This could be dealt with by splitting into multiple columns or creating a list"
   ]
  },
  {
   "cell_type": "code",
   "execution_count": 4,
   "id": "6271ef8e",
   "metadata": {},
   "outputs": [
    {
     "name": "stdout",
     "output_type": "stream",
     "text": [
      "<class 'pandas.core.frame.DataFrame'>\n",
      "RangeIndex: 66368 entries, 0 to 66367\n",
      "Data columns (total 10 columns):\n",
      " #   Column         Non-Null Count  Dtype \n",
      "---  ------         --------------  ----- \n",
      " 0   permalink      66368 non-null  object\n",
      " 1   name           66367 non-null  object\n",
      " 2   homepage_url   61310 non-null  object\n",
      " 3   category_list  63220 non-null  object\n",
      " 4   status         66368 non-null  object\n",
      " 5   country_code   59410 non-null  object\n",
      " 6   state_code     57821 non-null  object\n",
      " 7   region         58338 non-null  object\n",
      " 8   city           58340 non-null  object\n",
      " 9   founded_at     51147 non-null  object\n",
      "dtypes: object(10)\n",
      "memory usage: 5.1+ MB\n"
     ]
    }
   ],
   "source": [
    "# Find out some more about the dataset, e.g. number of rows, type of object, null values\n",
    "companies_df.info()"
   ]
  },
  {
   "cell_type": "markdown",
   "id": "7d4641b7",
   "metadata": {},
   "source": [
    "#### Insights:\n",
    "- There are a some null values - we can deal with these in data cleaning\n",
    "- There are 66374 rows in the dataframe, which is helpful to know when we're looking at the significance of null values\n",
    "- 'founded_at' is not in datetime format\n",
    "- 'founded_at' appears to have the most null values, but this might be helpful for predicting the raised_amount_usd in the model. Perhaps later on we can create a new dataframe for this which can be used to create a separate model and cross validated"
   ]
  },
  {
   "cell_type": "code",
   "execution_count": 5,
   "id": "91c39754",
   "metadata": {},
   "outputs": [
    {
     "data": {
      "text/html": [
       "<div>\n",
       "<style scoped>\n",
       "    .dataframe tbody tr th:only-of-type {\n",
       "        vertical-align: middle;\n",
       "    }\n",
       "\n",
       "    .dataframe tbody tr th {\n",
       "        vertical-align: top;\n",
       "    }\n",
       "\n",
       "    .dataframe thead th {\n",
       "        text-align: right;\n",
       "    }\n",
       "</style>\n",
       "<table border=\"1\" class=\"dataframe\">\n",
       "  <thead>\n",
       "    <tr style=\"text-align: right;\">\n",
       "      <th></th>\n",
       "      <th>permalink</th>\n",
       "      <th>name</th>\n",
       "      <th>homepage_url</th>\n",
       "      <th>category_list</th>\n",
       "      <th>status</th>\n",
       "      <th>country_code</th>\n",
       "      <th>state_code</th>\n",
       "      <th>region</th>\n",
       "      <th>city</th>\n",
       "      <th>founded_at</th>\n",
       "    </tr>\n",
       "  </thead>\n",
       "  <tbody>\n",
       "    <tr>\n",
       "      <th>count</th>\n",
       "      <td>66368</td>\n",
       "      <td>66367</td>\n",
       "      <td>61310</td>\n",
       "      <td>63220</td>\n",
       "      <td>66368</td>\n",
       "      <td>59410</td>\n",
       "      <td>57821</td>\n",
       "      <td>58338</td>\n",
       "      <td>58340</td>\n",
       "      <td>51147</td>\n",
       "    </tr>\n",
       "    <tr>\n",
       "      <th>unique</th>\n",
       "      <td>66368</td>\n",
       "      <td>66102</td>\n",
       "      <td>61191</td>\n",
       "      <td>27296</td>\n",
       "      <td>4</td>\n",
       "      <td>137</td>\n",
       "      <td>311</td>\n",
       "      <td>1092</td>\n",
       "      <td>5111</td>\n",
       "      <td>3978</td>\n",
       "    </tr>\n",
       "    <tr>\n",
       "      <th>top</th>\n",
       "      <td>/Organization/-Fame</td>\n",
       "      <td>Blink</td>\n",
       "      <td>http://www.askforoffer.com</td>\n",
       "      <td>Software</td>\n",
       "      <td>operating</td>\n",
       "      <td>USA</td>\n",
       "      <td>CA</td>\n",
       "      <td>SF Bay Area</td>\n",
       "      <td>San Francisco</td>\n",
       "      <td>01-01-2012</td>\n",
       "    </tr>\n",
       "    <tr>\n",
       "      <th>freq</th>\n",
       "      <td>1</td>\n",
       "      <td>4</td>\n",
       "      <td>5</td>\n",
       "      <td>3995</td>\n",
       "      <td>53034</td>\n",
       "      <td>37601</td>\n",
       "      <td>12900</td>\n",
       "      <td>8804</td>\n",
       "      <td>3526</td>\n",
       "      <td>2730</td>\n",
       "    </tr>\n",
       "  </tbody>\n",
       "</table>\n",
       "</div>"
      ],
      "text/plain": [
       "                  permalink   name                homepage_url category_list  \\\n",
       "count                 66368  66367                       61310         63220   \n",
       "unique                66368  66102                       61191         27296   \n",
       "top     /Organization/-Fame  Blink  http://www.askforoffer.com      Software   \n",
       "freq                      1      4                           5          3995   \n",
       "\n",
       "           status country_code state_code       region           city  \\\n",
       "count       66368        59410      57821        58338          58340   \n",
       "unique          4          137        311         1092           5111   \n",
       "top     operating          USA         CA  SF Bay Area  San Francisco   \n",
       "freq        53034        37601      12900         8804           3526   \n",
       "\n",
       "        founded_at  \n",
       "count        51147  \n",
       "unique        3978  \n",
       "top     01-01-2012  \n",
       "freq          2730  "
      ]
     },
     "execution_count": 5,
     "metadata": {},
     "output_type": "execute_result"
    }
   ],
   "source": [
    "# Find out what the data looks like, i.e. duplicates, most common entry, number of unique values\n",
    "companies_df.describe()"
   ]
  },
  {
   "cell_type": "markdown",
   "id": "ded98741",
   "metadata": {},
   "source": [
    "**Pre-Processing Question b)** How many unique companies are present in the companies file?\n",
    "\n",
    "66368"
   ]
  },
  {
   "cell_type": "markdown",
   "id": "5aac1726",
   "metadata": {},
   "source": [
    "#### Insights:\n",
    "- Some company names are the same but they don't operate in the same category, region etc. so are still different companies\n",
    "- Permalink seems to be the best way to merge datasets since it has no duplicate values\n",
    "- Some websites have the same URL, these could have been acquired and lost over time\n",
    "- Most companies are based in the USA\n",
    "- Most companies are still operating, 80% to give an exact number\n",
    "- We can't be confident in repeats until the entries have been standardised by case and type"
   ]
  },
  {
   "cell_type": "code",
   "execution_count": 6,
   "id": "140e80f2",
   "metadata": {},
   "outputs": [
    {
     "data": {
      "image/png": "[encoded data removed]",
      "text/plain": [
       "<Figure size 432x432 with 1 Axes>"
      ]
     },
     "metadata": {
      "needs_background": "light"
     },
     "output_type": "display_data"
    }
   ],
   "source": [
    "plt.figure(figsize=(6,6))\n",
    "plt.title('NaN Values in companies_df')\n",
    "sns.heatmap(companies_df.isnull(), cbar=False, yticklabels=False)\n",
    "plt.show()"
   ]
  },
  {
   "cell_type": "markdown",
   "id": "1863ac75",
   "metadata": {},
   "source": [
    "#### Insights:\n",
    "- The missing values don't appear to be consistent in one row other than for country code, state code, region and city, so if we remove all null values we could actually be removing a lot of data. This can be confirmed later"
   ]
  },
  {
   "cell_type": "code",
   "execution_count": 7,
   "id": "4e622d90",
   "metadata": {},
   "outputs": [
    {
     "data": {
      "text/plain": [
       "permalink            0\n",
       "name                 1\n",
       "homepage_url      5058\n",
       "category_list     3148\n",
       "status               0\n",
       "country_code      6958\n",
       "state_code        8547\n",
       "region            8030\n",
       "city              8028\n",
       "founded_at       15221\n",
       "dtype: int64"
      ]
     },
     "execution_count": 7,
     "metadata": {},
     "output_type": "execute_result"
    }
   ],
   "source": [
    "# Find out the exact number of non-null values\n",
    "companies_df.isna().sum()"
   ]
  },
  {
   "cell_type": "markdown",
   "id": "d5199092",
   "metadata": {},
   "source": [
    "### Cleaning the Data\n",
    "\n",
    "We'd like:\n",
    "- Consistency within columns i.e. lowercase or uppercase so we can correctly identify same entries or duplicates. We could see from the permalink that there is a variety of cases being used. These should be made constant so we can find the true number of unique values. \n",
    "- 'founded_at' to be in datetime format, as grouping by year and or month might be helpful later on in the analysis"
   ]
  },
  {
   "cell_type": "markdown",
   "id": "fae87c54",
   "metadata": {},
   "source": [
    "#### 1. Change the Case"
   ]
  },
  {
   "cell_type": "code",
   "execution_count": 8,
   "id": "12cafda5",
   "metadata": {},
   "outputs": [],
   "source": [
    "# Convert all entries to correct case\n",
    "companies_df['permalink'] = companies_df['permalink'].str.lower()\n",
    "companies_df['name'] = companies_df['name'].str.lower()\n",
    "companies_df['homepage_url'] = companies_df['homepage_url'].str.lower()\n",
    "\n",
    "companies_df['country_code'] = companies_df['country_code'].str.upper()\n",
    "companies_df['state_code'] = companies_df['state_code'].str.upper()\n",
    "\n",
    "companies_df['region'] = companies_df['region'].str.title()\n",
    "companies_df['category_list'] = companies_df['category_list'].str.lower()\n",
    "companies_df['status'] = companies_df['status'].str.title()\n",
    "companies_df['city'] = companies_df['city'].str.title()"
   ]
  },
  {
   "cell_type": "markdown",
   "id": "efc49c21",
   "metadata": {},
   "source": [
    "#### 2. Convert date to datetime format\n",
    "\n",
    "Kept the original column as a cross reference for checking the date was converted correctly."
   ]
  },
  {
   "cell_type": "code",
   "execution_count": 9,
   "id": "4aa046af",
   "metadata": {},
   "outputs": [],
   "source": [
    "# Convert founded date to datetime format - keep as a separate column in case the date doesn't convert properly\n",
    "companies_df['founded_date'] = pd.to_datetime(companies_df['founded_at'], errors='coerce')"
   ]
  },
  {
   "cell_type": "code",
   "execution_count": 10,
   "id": "9e1f4318",
   "metadata": {},
   "outputs": [
    {
     "name": "stdout",
     "output_type": "stream",
     "text": [
      "<class 'pandas.core.frame.DataFrame'>\n",
      "RangeIndex: 66368 entries, 0 to 66367\n",
      "Data columns (total 11 columns):\n",
      " #   Column         Non-Null Count  Dtype         \n",
      "---  ------         --------------  -----         \n",
      " 0   permalink      66368 non-null  object        \n",
      " 1   name           66367 non-null  object        \n",
      " 2   homepage_url   61310 non-null  object        \n",
      " 3   category_list  63220 non-null  object        \n",
      " 4   status         66368 non-null  object        \n",
      " 5   country_code   59410 non-null  object        \n",
      " 6   state_code     57821 non-null  object        \n",
      " 7   region         58338 non-null  object        \n",
      " 8   city           58340 non-null  object        \n",
      " 9   founded_at     51147 non-null  object        \n",
      " 10  founded_date   51143 non-null  datetime64[ns]\n",
      "dtypes: datetime64[ns](1), object(10)\n",
      "memory usage: 5.6+ MB\n"
     ]
    }
   ],
   "source": [
    "companies_df.info()"
   ]
  },
  {
   "cell_type": "markdown",
   "id": "e8b43fec",
   "metadata": {},
   "source": [
    "#### 3. Check for duplicates"
   ]
  },
  {
   "cell_type": "markdown",
   "id": "a22c73d7",
   "metadata": {},
   "source": [
    "From the description of the dataset above, we could see that some company names were repeated. Let's check if these companies are actually duplicates or if they're just companies who have the same name. "
   ]
  },
  {
   "cell_type": "code",
   "execution_count": 11,
   "id": "e2cc7e9f",
   "metadata": {},
   "outputs": [
    {
     "data": {
      "text/plain": [
       "roost        4\n",
       "spire        4\n",
       "shift        4\n",
       "kiwi         4\n",
       "blink        4\n",
       "            ..\n",
       "bento        2\n",
       "horizon      2\n",
       "handshake    2\n",
       "remark       2\n",
       "mobileway    2\n",
       "Name: name, Length: 295, dtype: int64"
      ]
     },
     "execution_count": 11,
     "metadata": {},
     "output_type": "execute_result"
    }
   ],
   "source": [
    "# Let's double check if there are any duplicate companies\n",
    "repeat_names = companies_df['name'].value_counts()\n",
    "repeat_names[repeat_names > 1]"
   ]
  },
  {
   "cell_type": "code",
   "execution_count": 12,
   "id": "72a93542",
   "metadata": {},
   "outputs": [
    {
     "data": {
      "text/html": [
       "<div>\n",
       "<style scoped>\n",
       "    .dataframe tbody tr th:only-of-type {\n",
       "        vertical-align: middle;\n",
       "    }\n",
       "\n",
       "    .dataframe tbody tr th {\n",
       "        vertical-align: top;\n",
       "    }\n",
       "\n",
       "    .dataframe thead th {\n",
       "        text-align: right;\n",
       "    }\n",
       "</style>\n",
       "<table border=\"1\" class=\"dataframe\">\n",
       "  <thead>\n",
       "    <tr style=\"text-align: right;\">\n",
       "      <th></th>\n",
       "      <th>permalink</th>\n",
       "      <th>name</th>\n",
       "      <th>homepage_url</th>\n",
       "      <th>category_list</th>\n",
       "      <th>status</th>\n",
       "      <th>country_code</th>\n",
       "      <th>state_code</th>\n",
       "      <th>region</th>\n",
       "      <th>city</th>\n",
       "      <th>founded_at</th>\n",
       "      <th>founded_date</th>\n",
       "    </tr>\n",
       "  </thead>\n",
       "  <tbody>\n",
       "    <tr>\n",
       "      <th>39726</th>\n",
       "      <td>/organization/notice-software</td>\n",
       "      <td>roost</td>\n",
       "      <td>http://roost.me/</td>\n",
       "      <td>apps|mobile|software</td>\n",
       "      <td>Operating</td>\n",
       "      <td>USA</td>\n",
       "      <td>NY</td>\n",
       "      <td>New York City</td>\n",
       "      <td>New York</td>\n",
       "      <td>01-01-2009</td>\n",
       "      <td>2009-01-01</td>\n",
       "    </tr>\n",
       "    <tr>\n",
       "      <th>48850</th>\n",
       "      <td>/organization/roost</td>\n",
       "      <td>roost</td>\n",
       "      <td>https://roost.com/</td>\n",
       "      <td>local based services|real estate|storage</td>\n",
       "      <td>Acquired</td>\n",
       "      <td>USA</td>\n",
       "      <td>CA</td>\n",
       "      <td>Sf Bay Area</td>\n",
       "      <td>San Francisco</td>\n",
       "      <td>01-05-2007</td>\n",
       "      <td>2007-01-05</td>\n",
       "    </tr>\n",
       "    <tr>\n",
       "      <th>48851</th>\n",
       "      <td>/organization/roost-6</td>\n",
       "      <td>roost</td>\n",
       "      <td>https://roost.com/</td>\n",
       "      <td>storage</td>\n",
       "      <td>Operating</td>\n",
       "      <td>USA</td>\n",
       "      <td>CA</td>\n",
       "      <td>Sf Bay Area</td>\n",
       "      <td>San Francisco</td>\n",
       "      <td>01-01-2014</td>\n",
       "      <td>2014-01-01</td>\n",
       "    </tr>\n",
       "    <tr>\n",
       "      <th>52548</th>\n",
       "      <td>/organization/smartroost</td>\n",
       "      <td>roost</td>\n",
       "      <td>http://getroost.com</td>\n",
       "      <td>home automation</td>\n",
       "      <td>Operating</td>\n",
       "      <td>USA</td>\n",
       "      <td>CA</td>\n",
       "      <td>Sf Bay Area</td>\n",
       "      <td>Sunnyvale</td>\n",
       "      <td>01-01-2014</td>\n",
       "      <td>2014-01-01</td>\n",
       "    </tr>\n",
       "  </tbody>\n",
       "</table>\n",
       "</div>"
      ],
      "text/plain": [
       "                           permalink   name         homepage_url  \\\n",
       "39726  /organization/notice-software  roost     http://roost.me/   \n",
       "48850            /organization/roost  roost   https://roost.com/   \n",
       "48851          /organization/roost-6  roost   https://roost.com/   \n",
       "52548       /organization/smartroost  roost  http://getroost.com   \n",
       "\n",
       "                                  category_list     status country_code  \\\n",
       "39726                      apps|mobile|software  Operating          USA   \n",
       "48850  local based services|real estate|storage   Acquired          USA   \n",
       "48851                                   storage  Operating          USA   \n",
       "52548                           home automation  Operating          USA   \n",
       "\n",
       "      state_code         region           city  founded_at founded_date  \n",
       "39726         NY  New York City       New York  01-01-2009   2009-01-01  \n",
       "48850         CA    Sf Bay Area  San Francisco  01-05-2007   2007-01-05  \n",
       "48851         CA    Sf Bay Area  San Francisco  01-01-2014   2014-01-01  \n",
       "52548         CA    Sf Bay Area      Sunnyvale  01-01-2014   2014-01-01  "
      ]
     },
     "execution_count": 12,
     "metadata": {},
     "output_type": "execute_result"
    }
   ],
   "source": [
    "# There are 295 duplicated company names\n",
    "# The name appears up to 4 times for some companies so lets see that these companies are\n",
    "roost = companies_df[companies_df['name'] == 'roost']\n",
    "roost"
   ]
  },
  {
   "cell_type": "code",
   "execution_count": 13,
   "id": "6dec6972",
   "metadata": {},
   "outputs": [
    {
     "data": {
      "text/html": [
       "<div>\n",
       "<style scoped>\n",
       "    .dataframe tbody tr th:only-of-type {\n",
       "        vertical-align: middle;\n",
       "    }\n",
       "\n",
       "    .dataframe tbody tr th {\n",
       "        vertical-align: top;\n",
       "    }\n",
       "\n",
       "    .dataframe thead th {\n",
       "        text-align: right;\n",
       "    }\n",
       "</style>\n",
       "<table border=\"1\" class=\"dataframe\">\n",
       "  <thead>\n",
       "    <tr style=\"text-align: right;\">\n",
       "      <th></th>\n",
       "      <th>permalink</th>\n",
       "      <th>name</th>\n",
       "      <th>homepage_url</th>\n",
       "      <th>category_list</th>\n",
       "      <th>status</th>\n",
       "      <th>country_code</th>\n",
       "      <th>state_code</th>\n",
       "      <th>region</th>\n",
       "      <th>city</th>\n",
       "      <th>founded_at</th>\n",
       "      <th>founded_date</th>\n",
       "    </tr>\n",
       "  </thead>\n",
       "  <tbody>\n",
       "    <tr>\n",
       "      <th>7449</th>\n",
       "      <td>/organization/blink</td>\n",
       "      <td>blink</td>\n",
       "      <td>http://www.blink.la</td>\n",
       "      <td>content|journalism|location based services|med...</td>\n",
       "      <td>Operating</td>\n",
       "      <td>USA</td>\n",
       "      <td>NY</td>\n",
       "      <td>New York City</td>\n",
       "      <td>New York</td>\n",
       "      <td>01-01-2013</td>\n",
       "      <td>2013-01-01</td>\n",
       "    </tr>\n",
       "    <tr>\n",
       "      <th>7450</th>\n",
       "      <td>/organization/blink-4</td>\n",
       "      <td>blink</td>\n",
       "      <td>http://www.blinnnk.com/</td>\n",
       "      <td>software</td>\n",
       "      <td>Operating</td>\n",
       "      <td>JPN</td>\n",
       "      <td>18</td>\n",
       "      <td>Jpn - Other</td>\n",
       "      <td>China</td>\n",
       "      <td>01-01-2014</td>\n",
       "      <td>2014-01-01</td>\n",
       "    </tr>\n",
       "    <tr>\n",
       "      <th>7451</th>\n",
       "      <td>/organization/blink-7</td>\n",
       "      <td>blink</td>\n",
       "      <td>http://blinkforhome.com</td>\n",
       "      <td>electronics</td>\n",
       "      <td>Operating</td>\n",
       "      <td>USA</td>\n",
       "      <td>MA</td>\n",
       "      <td>Boston</td>\n",
       "      <td>Boston</td>\n",
       "      <td>NaN</td>\n",
       "      <td>NaT</td>\n",
       "    </tr>\n",
       "    <tr>\n",
       "      <th>7452</th>\n",
       "      <td>/organization/blink-9</td>\n",
       "      <td>blink</td>\n",
       "      <td>http://www.flyblink.com/</td>\n",
       "      <td>location based services|service providers</td>\n",
       "      <td>Operating</td>\n",
       "      <td>GBR</td>\n",
       "      <td>N7</td>\n",
       "      <td>Camberley</td>\n",
       "      <td>Camberley</td>\n",
       "      <td>NaN</td>\n",
       "      <td>NaT</td>\n",
       "    </tr>\n",
       "  </tbody>\n",
       "</table>\n",
       "</div>"
      ],
      "text/plain": [
       "                  permalink   name              homepage_url  \\\n",
       "7449    /organization/blink  blink       http://www.blink.la   \n",
       "7450  /organization/blink-4  blink   http://www.blinnnk.com/   \n",
       "7451  /organization/blink-7  blink   http://blinkforhome.com   \n",
       "7452  /organization/blink-9  blink  http://www.flyblink.com/   \n",
       "\n",
       "                                          category_list     status  \\\n",
       "7449  content|journalism|location based services|med...  Operating   \n",
       "7450                                           software  Operating   \n",
       "7451                                        electronics  Operating   \n",
       "7452          location based services|service providers  Operating   \n",
       "\n",
       "     country_code state_code         region       city  founded_at  \\\n",
       "7449          USA         NY  New York City   New York  01-01-2013   \n",
       "7450          JPN         18    Jpn - Other      China  01-01-2014   \n",
       "7451          USA         MA         Boston     Boston         NaN   \n",
       "7452          GBR         N7      Camberley  Camberley         NaN   \n",
       "\n",
       "     founded_date  \n",
       "7449   2013-01-01  \n",
       "7450   2014-01-01  \n",
       "7451          NaT  \n",
       "7452          NaT  "
      ]
     },
     "execution_count": 13,
     "metadata": {},
     "output_type": "execute_result"
    }
   ],
   "source": [
    "blink = companies_df[companies_df['name'] == 'blink']\n",
    "blink"
   ]
  },
  {
   "cell_type": "markdown",
   "id": "558c21cf",
   "metadata": {},
   "source": [
    "This was tried for other companies, and it resulted than the companies appeared to be different as they're still operating (assuming the data is still up to date), are in different regions, different categories and have no other common values."
   ]
  },
  {
   "cell_type": "markdown",
   "id": "4d1b6c44",
   "metadata": {},
   "source": [
    "#### 4. Format the category_list column"
   ]
  },
  {
   "cell_type": "markdown",
   "id": "fbb2e4ee",
   "metadata": {},
   "source": [
    "Another observation is that there are multiple categories in the list section. These can be split by their spearator | into a list. \n",
    "\n",
    "*This ended up being hashed out as it was more difficult to save the dataframe as a csv and import it as a list*"
   ]
  },
  {
   "cell_type": "code",
   "execution_count": 14,
   "id": "b827c211",
   "metadata": {},
   "outputs": [],
   "source": [
    "# companies_df['category_list'] = companies_df['category_list'].str.split('|')"
   ]
  },
  {
   "cell_type": "markdown",
   "id": "03fc4b19",
   "metadata": {},
   "source": [
    "#### 5. Re-check the data for further cleaning"
   ]
  },
  {
   "cell_type": "code",
   "execution_count": 15,
   "id": "d72683f1",
   "metadata": {},
   "outputs": [
    {
     "data": {
      "text/plain": [
       "count                            51143\n",
       "mean     2007-11-18 00:59:44.865964032\n",
       "min                1749-01-01 00:00:00\n",
       "25%                2006-01-01 00:00:00\n",
       "50%                2010-04-22 00:00:00\n",
       "75%                2013-01-01 00:00:00\n",
       "max                2105-02-17 00:00:00\n",
       "Name: founded_date, dtype: object"
      ]
     },
     "execution_count": 15,
     "metadata": {},
     "output_type": "execute_result"
    }
   ],
   "source": [
    "companies_df['founded_date'].describe(datetime_is_numeric=True)"
   ]
  },
  {
   "cell_type": "code",
   "execution_count": 16,
   "id": "052cd6d5",
   "metadata": {},
   "outputs": [
    {
     "data": {
      "text/html": [
       "<div>\n",
       "<style scoped>\n",
       "    .dataframe tbody tr th:only-of-type {\n",
       "        vertical-align: middle;\n",
       "    }\n",
       "\n",
       "    .dataframe tbody tr th {\n",
       "        vertical-align: top;\n",
       "    }\n",
       "\n",
       "    .dataframe thead th {\n",
       "        text-align: right;\n",
       "    }\n",
       "</style>\n",
       "<table border=\"1\" class=\"dataframe\">\n",
       "  <thead>\n",
       "    <tr style=\"text-align: right;\">\n",
       "      <th></th>\n",
       "      <th>permalink</th>\n",
       "      <th>name</th>\n",
       "      <th>homepage_url</th>\n",
       "      <th>category_list</th>\n",
       "      <th>status</th>\n",
       "      <th>country_code</th>\n",
       "      <th>state_code</th>\n",
       "      <th>region</th>\n",
       "      <th>city</th>\n",
       "      <th>founded_at</th>\n",
       "    </tr>\n",
       "  </thead>\n",
       "  <tbody>\n",
       "    <tr>\n",
       "      <th>count</th>\n",
       "      <td>66368</td>\n",
       "      <td>66367</td>\n",
       "      <td>61310</td>\n",
       "      <td>63220</td>\n",
       "      <td>66368</td>\n",
       "      <td>59410</td>\n",
       "      <td>57821</td>\n",
       "      <td>58338</td>\n",
       "      <td>58340</td>\n",
       "      <td>51147</td>\n",
       "    </tr>\n",
       "    <tr>\n",
       "      <th>unique</th>\n",
       "      <td>66368</td>\n",
       "      <td>66037</td>\n",
       "      <td>61187</td>\n",
       "      <td>27296</td>\n",
       "      <td>4</td>\n",
       "      <td>137</td>\n",
       "      <td>311</td>\n",
       "      <td>1092</td>\n",
       "      <td>5111</td>\n",
       "      <td>3978</td>\n",
       "    </tr>\n",
       "    <tr>\n",
       "      <th>top</th>\n",
       "      <td>/organization/-fame</td>\n",
       "      <td>roost</td>\n",
       "      <td>http://www.askforoffer.com</td>\n",
       "      <td>software</td>\n",
       "      <td>Operating</td>\n",
       "      <td>USA</td>\n",
       "      <td>CA</td>\n",
       "      <td>Sf Bay Area</td>\n",
       "      <td>San Francisco</td>\n",
       "      <td>01-01-2012</td>\n",
       "    </tr>\n",
       "    <tr>\n",
       "      <th>freq</th>\n",
       "      <td>1</td>\n",
       "      <td>4</td>\n",
       "      <td>5</td>\n",
       "      <td>3995</td>\n",
       "      <td>53034</td>\n",
       "      <td>37601</td>\n",
       "      <td>12900</td>\n",
       "      <td>8804</td>\n",
       "      <td>3526</td>\n",
       "      <td>2730</td>\n",
       "    </tr>\n",
       "  </tbody>\n",
       "</table>\n",
       "</div>"
      ],
      "text/plain": [
       "                  permalink   name                homepage_url category_list  \\\n",
       "count                 66368  66367                       61310         63220   \n",
       "unique                66368  66037                       61187         27296   \n",
       "top     /organization/-fame  roost  http://www.askforoffer.com      software   \n",
       "freq                      1      4                           5          3995   \n",
       "\n",
       "           status country_code state_code       region           city  \\\n",
       "count       66368        59410      57821        58338          58340   \n",
       "unique          4          137        311         1092           5111   \n",
       "top     Operating          USA         CA  Sf Bay Area  San Francisco   \n",
       "freq        53034        37601      12900         8804           3526   \n",
       "\n",
       "        founded_at  \n",
       "count        51147  \n",
       "unique        3978  \n",
       "top     01-01-2012  \n",
       "freq          2730  "
      ]
     },
     "execution_count": 16,
     "metadata": {},
     "output_type": "execute_result"
    }
   ],
   "source": [
    "companies_df.describe(include=['O'])"
   ]
  },
  {
   "cell_type": "markdown",
   "id": "2750ea35",
   "metadata": {},
   "source": [
    "#### 6. Removing Anomolies\n",
    "\n",
    "The date here is clearly wrong. Let's plot all the dates to find out which are outliers or not.\n",
    "\n",
    "The first date is 1749 which seems extremely early and the latest date is 2105 which hasn't happened yet. Let's visualise these outliers."
   ]
  },
  {
   "cell_type": "code",
   "execution_count": 17,
   "id": "52c4f797",
   "metadata": {},
   "outputs": [
    {
     "data": {
      "image/png": "[encoded data removed]",
      "text/plain": [
       "<Figure size 576x360 with 1 Axes>"
      ]
     },
     "metadata": {
      "needs_background": "light"
     },
     "output_type": "display_data"
    }
   ],
   "source": [
    "# Sort by date founded\n",
    "founded_date = companies_df.sort_values(by='founded_date').reset_index()\n",
    "\n",
    "# Plot date in increasing order\n",
    "plt.figure(figsize=(8,5))\n",
    "plt.scatter(founded_date.index, founded_date['founded_date'])\n",
    "plt.title('Founding Dates of Companies from the Dataset companies.txt')\n",
    "plt.show()"
   ]
  },
  {
   "cell_type": "markdown",
   "id": "0561c97d",
   "metadata": {},
   "source": [
    "We can see some obvious insights from this data:\n",
    "1. There are some false data where the year founded is beyond 2022. These will be removed\n",
    "2. The majority of companies founded dates are beyond the year 2000. This is likely to be more relevant to the model, so later we might remove any data prior to this. \n",
    "\n",
    "Double check the data is wrong rather than the conversion being wrong (i.e. compare founded at to founded date)."
   ]
  },
  {
   "cell_type": "code",
   "execution_count": 18,
   "id": "eb50c160",
   "metadata": {
    "scrolled": true
   },
   "outputs": [
    {
     "data": {
      "text/html": [
       "<div>\n",
       "<style scoped>\n",
       "    .dataframe tbody tr th:only-of-type {\n",
       "        vertical-align: middle;\n",
       "    }\n",
       "\n",
       "    .dataframe tbody tr th {\n",
       "        vertical-align: top;\n",
       "    }\n",
       "\n",
       "    .dataframe thead th {\n",
       "        text-align: right;\n",
       "    }\n",
       "</style>\n",
       "<table border=\"1\" class=\"dataframe\">\n",
       "  <thead>\n",
       "    <tr style=\"text-align: right;\">\n",
       "      <th></th>\n",
       "      <th>permalink</th>\n",
       "      <th>name</th>\n",
       "      <th>homepage_url</th>\n",
       "      <th>category_list</th>\n",
       "      <th>status</th>\n",
       "      <th>country_code</th>\n",
       "      <th>state_code</th>\n",
       "      <th>region</th>\n",
       "      <th>city</th>\n",
       "      <th>founded_at</th>\n",
       "      <th>founded_date</th>\n",
       "    </tr>\n",
       "  </thead>\n",
       "  <tbody>\n",
       "    <tr>\n",
       "      <th>16681</th>\n",
       "      <td>/organization/dugoutfc-ltd</td>\n",
       "      <td>dugoutfc ltd</td>\n",
       "      <td>http://www.dugoutfc.com</td>\n",
       "      <td>fantasy sports</td>\n",
       "      <td>Operating</td>\n",
       "      <td>NaN</td>\n",
       "      <td>NaN</td>\n",
       "      <td>NaN</td>\n",
       "      <td>NaN</td>\n",
       "      <td>17-02-2105</td>\n",
       "      <td>2105-02-17</td>\n",
       "    </tr>\n",
       "    <tr>\n",
       "      <th>32736</th>\n",
       "      <td>/organization/livamp-2</td>\n",
       "      <td>livamp</td>\n",
       "      <td>http://www.livamp.com</td>\n",
       "      <td>entertainment|music|video</td>\n",
       "      <td>Closed</td>\n",
       "      <td>NaN</td>\n",
       "      <td>NaN</td>\n",
       "      <td>NaN</td>\n",
       "      <td>NaN</td>\n",
       "      <td>21-09-2041</td>\n",
       "      <td>2041-09-21</td>\n",
       "    </tr>\n",
       "    <tr>\n",
       "      <th>53396</th>\n",
       "      <td>/organization/soply</td>\n",
       "      <td>soply</td>\n",
       "      <td>https://soply.com/</td>\n",
       "      <td>creative industries|digital media|marketplaces</td>\n",
       "      <td>Operating</td>\n",
       "      <td>GBR</td>\n",
       "      <td>H9</td>\n",
       "      <td>London</td>\n",
       "      <td>London</td>\n",
       "      <td>01-01-2104</td>\n",
       "      <td>2104-01-01</td>\n",
       "    </tr>\n",
       "  </tbody>\n",
       "</table>\n",
       "</div>"
      ],
      "text/plain": [
       "                        permalink          name             homepage_url  \\\n",
       "16681  /organization/dugoutfc-ltd  dugoutfc ltd  http://www.dugoutfc.com   \n",
       "32736      /organization/livamp-2        livamp    http://www.livamp.com   \n",
       "53396         /organization/soply         soply       https://soply.com/   \n",
       "\n",
       "                                        category_list     status country_code  \\\n",
       "16681                                  fantasy sports  Operating          NaN   \n",
       "32736                       entertainment|music|video     Closed          NaN   \n",
       "53396  creative industries|digital media|marketplaces  Operating          GBR   \n",
       "\n",
       "      state_code  region    city  founded_at founded_date  \n",
       "16681        NaN     NaN     NaN  17-02-2105   2105-02-17  \n",
       "32736        NaN     NaN     NaN  21-09-2041   2041-09-21  \n",
       "53396         H9  London  London  01-01-2104   2104-01-01  "
      ]
     },
     "execution_count": 18,
     "metadata": {},
     "output_type": "execute_result"
    }
   ],
   "source": [
    "companies_df[companies_df['founded_date'] > '2022-05-27']"
   ]
  },
  {
   "cell_type": "markdown",
   "id": "a52da006",
   "metadata": {},
   "source": [
    "As there are only three anomolies they were removed, as there could be mistakes in the rest of the row if there was a mistake in entering the year founded. "
   ]
  },
  {
   "cell_type": "code",
   "execution_count": 19,
   "id": "404cd644",
   "metadata": {},
   "outputs": [],
   "source": [
    "# Remove any dates beyond today (i.e. the 3 shown above)\n",
    "companies_df = companies_df[companies_df['founded_date'] <= '2022-05-27']\n",
    "\n",
    "# Drop the original date column\n",
    "companies_df = companies_df.drop(columns=['founded_at'])"
   ]
  },
  {
   "cell_type": "markdown",
   "id": "ac379b24",
   "metadata": {},
   "source": [
    "## investment_rounds.csv"
   ]
  },
  {
   "cell_type": "code",
   "execution_count": 20,
   "id": "de50cff0",
   "metadata": {},
   "outputs": [
    {
     "data": {
      "text/html": [
       "<div>\n",
       "<style scoped>\n",
       "    .dataframe tbody tr th:only-of-type {\n",
       "        vertical-align: middle;\n",
       "    }\n",
       "\n",
       "    .dataframe tbody tr th {\n",
       "        vertical-align: top;\n",
       "    }\n",
       "\n",
       "    .dataframe thead th {\n",
       "        text-align: right;\n",
       "    }\n",
       "</style>\n",
       "<table border=\"1\" class=\"dataframe\">\n",
       "  <thead>\n",
       "    <tr style=\"text-align: right;\">\n",
       "      <th></th>\n",
       "      <th>company_permalink</th>\n",
       "      <th>funding_round_permalink</th>\n",
       "      <th>funding_round_type</th>\n",
       "      <th>funding_round_code</th>\n",
       "      <th>funded_at</th>\n",
       "      <th>raised_amount_usd</th>\n",
       "    </tr>\n",
       "  </thead>\n",
       "  <tbody>\n",
       "    <tr>\n",
       "      <th>0</th>\n",
       "      <td>/organization/-fame</td>\n",
       "      <td>/funding-round/9a01d05418af9f794eebff7ace91f638</td>\n",
       "      <td>venture</td>\n",
       "      <td>B</td>\n",
       "      <td>05-01-2015</td>\n",
       "      <td>10000000.0</td>\n",
       "    </tr>\n",
       "    <tr>\n",
       "      <th>1</th>\n",
       "      <td>/ORGANIZATION/-QOUNTER</td>\n",
       "      <td>/funding-round/22dacff496eb7acb2b901dec1dfe5633</td>\n",
       "      <td>venture</td>\n",
       "      <td>A</td>\n",
       "      <td>14-10-2014</td>\n",
       "      <td>NaN</td>\n",
       "    </tr>\n",
       "    <tr>\n",
       "      <th>2</th>\n",
       "      <td>/organization/-qounter</td>\n",
       "      <td>/funding-round/b44fbb94153f6cdef13083530bb48030</td>\n",
       "      <td>seed</td>\n",
       "      <td>NaN</td>\n",
       "      <td>01-03-2014</td>\n",
       "      <td>700000.0</td>\n",
       "    </tr>\n",
       "    <tr>\n",
       "      <th>3</th>\n",
       "      <td>/ORGANIZATION/-THE-ONE-OF-THEM-INC-</td>\n",
       "      <td>/funding-round/650b8f704416801069bb178a1418776b</td>\n",
       "      <td>venture</td>\n",
       "      <td>B</td>\n",
       "      <td>30-01-2014</td>\n",
       "      <td>3406878.0</td>\n",
       "    </tr>\n",
       "    <tr>\n",
       "      <th>4</th>\n",
       "      <td>/organization/0-6-com</td>\n",
       "      <td>/funding-round/5727accaeaa57461bd22a9bdd945382d</td>\n",
       "      <td>venture</td>\n",
       "      <td>A</td>\n",
       "      <td>19-03-2008</td>\n",
       "      <td>2000000.0</td>\n",
       "    </tr>\n",
       "  </tbody>\n",
       "</table>\n",
       "</div>"
      ],
      "text/plain": [
       "                     company_permalink  \\\n",
       "0                  /organization/-fame   \n",
       "1               /ORGANIZATION/-QOUNTER   \n",
       "2               /organization/-qounter   \n",
       "3  /ORGANIZATION/-THE-ONE-OF-THEM-INC-   \n",
       "4                /organization/0-6-com   \n",
       "\n",
       "                           funding_round_permalink funding_round_type  \\\n",
       "0  /funding-round/9a01d05418af9f794eebff7ace91f638            venture   \n",
       "1  /funding-round/22dacff496eb7acb2b901dec1dfe5633            venture   \n",
       "2  /funding-round/b44fbb94153f6cdef13083530bb48030               seed   \n",
       "3  /funding-round/650b8f704416801069bb178a1418776b            venture   \n",
       "4  /funding-round/5727accaeaa57461bd22a9bdd945382d            venture   \n",
       "\n",
       "  funding_round_code   funded_at  raised_amount_usd  \n",
       "0                  B  05-01-2015         10000000.0  \n",
       "1                  A  14-10-2014                NaN  \n",
       "2                NaN  01-03-2014           700000.0  \n",
       "3                  B  30-01-2014          3406878.0  \n",
       "4                  A  19-03-2008          2000000.0  "
      ]
     },
     "execution_count": 20,
     "metadata": {},
     "output_type": "execute_result"
    }
   ],
   "source": [
    "investment_df.head()"
   ]
  },
  {
   "cell_type": "markdown",
   "id": "93d73443",
   "metadata": {},
   "source": [
    "Similar insights to the companies file:\n",
    "- Mix of cases\n",
    "- Some NaN values obvious already (check below)\n",
    "- Looks like funding_round_permalink could be the most unique column here"
   ]
  },
  {
   "cell_type": "code",
   "execution_count": 21,
   "id": "e94a9a06",
   "metadata": {},
   "outputs": [
    {
     "name": "stdout",
     "output_type": "stream",
     "text": [
      "<class 'pandas.core.frame.DataFrame'>\n",
      "RangeIndex: 114949 entries, 0 to 114948\n",
      "Data columns (total 6 columns):\n",
      " #   Column                   Non-Null Count   Dtype  \n",
      "---  ------                   --------------   -----  \n",
      " 0   company_permalink        114949 non-null  object \n",
      " 1   funding_round_permalink  114949 non-null  object \n",
      " 2   funding_round_type       114949 non-null  object \n",
      " 3   funding_round_code       31140 non-null   object \n",
      " 4   funded_at                114949 non-null  object \n",
      " 5   raised_amount_usd        94959 non-null   float64\n",
      "dtypes: float64(1), object(5)\n",
      "memory usage: 5.3+ MB\n"
     ]
    }
   ],
   "source": [
    "investment_df.info()"
   ]
  },
  {
   "cell_type": "markdown",
   "id": "687d9d11",
   "metadata": {},
   "source": [
    "Biggest observation here is the number of null values that exist for the funding_round_code. funded_at is also an object rather than in datetime format."
   ]
  },
  {
   "cell_type": "code",
   "execution_count": 22,
   "id": "6aa0dc7d",
   "metadata": {},
   "outputs": [
    {
     "data": {
      "text/html": [
       "<div>\n",
       "<style scoped>\n",
       "    .dataframe tbody tr th:only-of-type {\n",
       "        vertical-align: middle;\n",
       "    }\n",
       "\n",
       "    .dataframe tbody tr th {\n",
       "        vertical-align: top;\n",
       "    }\n",
       "\n",
       "    .dataframe thead th {\n",
       "        text-align: right;\n",
       "    }\n",
       "</style>\n",
       "<table border=\"1\" class=\"dataframe\">\n",
       "  <thead>\n",
       "    <tr style=\"text-align: right;\">\n",
       "      <th></th>\n",
       "      <th>raised_amount_usd</th>\n",
       "    </tr>\n",
       "  </thead>\n",
       "  <tbody>\n",
       "    <tr>\n",
       "      <th>count</th>\n",
       "      <td>9.495900e+04</td>\n",
       "    </tr>\n",
       "    <tr>\n",
       "      <th>mean</th>\n",
       "      <td>1.042687e+07</td>\n",
       "    </tr>\n",
       "    <tr>\n",
       "      <th>std</th>\n",
       "      <td>1.148212e+08</td>\n",
       "    </tr>\n",
       "    <tr>\n",
       "      <th>min</th>\n",
       "      <td>0.000000e+00</td>\n",
       "    </tr>\n",
       "    <tr>\n",
       "      <th>25%</th>\n",
       "      <td>3.225000e+05</td>\n",
       "    </tr>\n",
       "    <tr>\n",
       "      <th>50%</th>\n",
       "      <td>1.680511e+06</td>\n",
       "    </tr>\n",
       "    <tr>\n",
       "      <th>75%</th>\n",
       "      <td>7.000000e+06</td>\n",
       "    </tr>\n",
       "    <tr>\n",
       "      <th>max</th>\n",
       "      <td>2.127194e+10</td>\n",
       "    </tr>\n",
       "  </tbody>\n",
       "</table>\n",
       "</div>"
      ],
      "text/plain": [
       "       raised_amount_usd\n",
       "count       9.495900e+04\n",
       "mean        1.042687e+07\n",
       "std         1.148212e+08\n",
       "min         0.000000e+00\n",
       "25%         3.225000e+05\n",
       "50%         1.680511e+06\n",
       "75%         7.000000e+06\n",
       "max         2.127194e+10"
      ]
     },
     "execution_count": 22,
     "metadata": {},
     "output_type": "execute_result"
    }
   ],
   "source": [
    "investment_df.describe()"
   ]
  },
  {
   "cell_type": "markdown",
   "id": "5027106f",
   "metadata": {},
   "source": [
    "The mean is actually quite far off the median, and is even higher than the upper quartile. This suggests there are probably some outliers. The standard deviation is also really high. \n",
    "\n",
    "The highest investment is 20,000,000,000 (20 billion) which is extremely high. This is very likely to be a typo but will be checked later when the data is filtered from the merged dataframe. "
   ]
  },
  {
   "cell_type": "code",
   "execution_count": 23,
   "id": "7d1edd76",
   "metadata": {},
   "outputs": [
    {
     "data": {
      "text/html": [
       "<div>\n",
       "<style scoped>\n",
       "    .dataframe tbody tr th:only-of-type {\n",
       "        vertical-align: middle;\n",
       "    }\n",
       "\n",
       "    .dataframe tbody tr th {\n",
       "        vertical-align: top;\n",
       "    }\n",
       "\n",
       "    .dataframe thead th {\n",
       "        text-align: right;\n",
       "    }\n",
       "</style>\n",
       "<table border=\"1\" class=\"dataframe\">\n",
       "  <thead>\n",
       "    <tr style=\"text-align: right;\">\n",
       "      <th></th>\n",
       "      <th>company_permalink</th>\n",
       "      <th>funding_round_permalink</th>\n",
       "      <th>funding_round_type</th>\n",
       "      <th>funding_round_code</th>\n",
       "      <th>funded_at</th>\n",
       "    </tr>\n",
       "  </thead>\n",
       "  <tbody>\n",
       "    <tr>\n",
       "      <th>count</th>\n",
       "      <td>114949</td>\n",
       "      <td>114949</td>\n",
       "      <td>114949</td>\n",
       "      <td>31140</td>\n",
       "      <td>114949</td>\n",
       "    </tr>\n",
       "    <tr>\n",
       "      <th>unique</th>\n",
       "      <td>90247</td>\n",
       "      <td>114949</td>\n",
       "      <td>14</td>\n",
       "      <td>8</td>\n",
       "      <td>5033</td>\n",
       "    </tr>\n",
       "    <tr>\n",
       "      <th>top</th>\n",
       "      <td>/ORGANIZATION/SOLARFLARE</td>\n",
       "      <td>/funding-round/9a01d05418af9f794eebff7ace91f638</td>\n",
       "      <td>venture</td>\n",
       "      <td>A</td>\n",
       "      <td>01-01-2014</td>\n",
       "    </tr>\n",
       "    <tr>\n",
       "      <th>freq</th>\n",
       "      <td>10</td>\n",
       "      <td>1</td>\n",
       "      <td>55494</td>\n",
       "      <td>14747</td>\n",
       "      <td>779</td>\n",
       "    </tr>\n",
       "  </tbody>\n",
       "</table>\n",
       "</div>"
      ],
      "text/plain": [
       "               company_permalink  \\\n",
       "count                     114949   \n",
       "unique                     90247   \n",
       "top     /ORGANIZATION/SOLARFLARE   \n",
       "freq                          10   \n",
       "\n",
       "                                funding_round_permalink funding_round_type  \\\n",
       "count                                            114949             114949   \n",
       "unique                                           114949                 14   \n",
       "top     /funding-round/9a01d05418af9f794eebff7ace91f638            venture   \n",
       "freq                                                  1              55494   \n",
       "\n",
       "       funding_round_code   funded_at  \n",
       "count               31140      114949  \n",
       "unique                  8        5033  \n",
       "top                     A  01-01-2014  \n",
       "freq                14747         779  "
      ]
     },
     "execution_count": 23,
     "metadata": {},
     "output_type": "execute_result"
    }
   ],
   "source": [
    "investment_df.describe(include=['O'])"
   ]
  },
  {
   "cell_type": "markdown",
   "id": "dce6d347",
   "metadata": {},
   "source": [
    "**Pre-Processing Question b)** How many unique companies are present in investment_rounds?\n",
    "\n",
    "90247"
   ]
  },
  {
   "cell_type": "code",
   "execution_count": 24,
   "id": "acade8a8",
   "metadata": {},
   "outputs": [
    {
     "data": {
      "image/png": "[encoded data removed]",
      "text/plain": [
       "<Figure size 432x288 with 1 Axes>"
      ]
     },
     "metadata": {
      "needs_background": "light"
     },
     "output_type": "display_data"
    }
   ],
   "source": [
    "sns.heatmap(investment_df.isnull(), cbar=False, yticklabels=False)\n",
    "plt.show()"
   ]
  },
  {
   "cell_type": "code",
   "execution_count": 25,
   "id": "20cd9b42",
   "metadata": {},
   "outputs": [
    {
     "data": {
      "text/plain": [
       "company_permalink              0\n",
       "funding_round_permalink        0\n",
       "funding_round_type             0\n",
       "funding_round_code         83809\n",
       "funded_at                      0\n",
       "raised_amount_usd          19990\n",
       "dtype: int64"
      ]
     },
     "execution_count": 25,
     "metadata": {},
     "output_type": "execute_result"
    }
   ],
   "source": [
    "investment_df.isna().sum()"
   ]
  },
  {
   "cell_type": "markdown",
   "id": "7c97355b",
   "metadata": {},
   "source": [
    "Insights:\n",
    "- There are 66370 unique companies in the investment_round file\n",
    "- some companies appear up to 19 times, meaning they have been through up to 19 investment rounds \n",
    "- Some of these companies likely went through multiple investment rounds as there are many more funding_round_permalink entries, each of which is unique\n",
    "- The most common funding round code is A (series A assuming) which is the first round, which is expected as all companies would make it to this but not many would make it much further\n",
    "- Venture is the most common funding round type\n",
    "- A lot of funding round codes are missing as well as raised amount in USD"
   ]
  },
  {
   "cell_type": "markdown",
   "id": "277b6374",
   "metadata": {},
   "source": [
    "### Clean the Data\n",
    "\n",
    "#### 1. Change date to datetime format"
   ]
  },
  {
   "cell_type": "code",
   "execution_count": 26,
   "id": "79ef3d99",
   "metadata": {},
   "outputs": [],
   "source": [
    "investment_df['funded_at'] = pd.to_datetime(investment_df['funded_at'], errors='coerce')"
   ]
  },
  {
   "cell_type": "markdown",
   "id": "a0c3467e",
   "metadata": {},
   "source": [
    "#### 2. Check the range of dates for outliers"
   ]
  },
  {
   "cell_type": "code",
   "execution_count": 27,
   "id": "3790f4ef",
   "metadata": {},
   "outputs": [
    {
     "data": {
      "text/plain": [
       "count                           114949\n",
       "mean     2011-11-06 11:47:14.457019904\n",
       "min                1960-01-01 00:00:00\n",
       "25%                2010-03-02 00:00:00\n",
       "50%                2012-11-01 00:00:00\n",
       "75%                2014-04-24 00:00:00\n",
       "max                2015-12-11 00:00:00\n",
       "Name: funded_at, dtype: object"
      ]
     },
     "execution_count": 27,
     "metadata": {},
     "output_type": "execute_result"
    }
   ],
   "source": [
    "investment_df['funded_at'].describe(datetime_is_numeric=True)"
   ]
  },
  {
   "cell_type": "markdown",
   "id": "d74550fc",
   "metadata": {},
   "source": [
    "- The mean and median are quite close to each other\n",
    "- The 75th percentile is very close to the maximum value\n",
    "- The earliest date of investment is 1960 which seems very early"
   ]
  },
  {
   "cell_type": "markdown",
   "id": "c5b841e0",
   "metadata": {},
   "source": [
    "#### 3. Change the case of entries"
   ]
  },
  {
   "cell_type": "code",
   "execution_count": 28,
   "id": "bb41b031",
   "metadata": {},
   "outputs": [],
   "source": [
    "# Convert all entries to correct case\n",
    "investment_df['company_permalink'] = investment_df['company_permalink'].str.lower()\n",
    "investment_df['funding_round_permalink'] = investment_df['funding_round_permalink'].str.lower()\n",
    "\n",
    "investment_df['funding_round_code'] = investment_df['funding_round_code'].str.upper()\n",
    "\n",
    "investment_df['funding_round_type'] = investment_df['funding_round_type'].str.title()"
   ]
  },
  {
   "cell_type": "markdown",
   "id": "66bbe504",
   "metadata": {},
   "source": [
    "# Merging Datasets\n",
    "\n",
    "Use an Inner join, as we don't want investment round data without the information on the company, but equally we don't want company information without knowing anything about their investment rounds. This won't help us when we're trying to build the model later on. "
   ]
  },
  {
   "cell_type": "code",
   "execution_count": 29,
   "id": "db3539a4",
   "metadata": {},
   "outputs": [
    {
     "data": {
      "text/html": [
       "<div>\n",
       "<style scoped>\n",
       "    .dataframe tbody tr th:only-of-type {\n",
       "        vertical-align: middle;\n",
       "    }\n",
       "\n",
       "    .dataframe tbody tr th {\n",
       "        vertical-align: top;\n",
       "    }\n",
       "\n",
       "    .dataframe thead th {\n",
       "        text-align: right;\n",
       "    }\n",
       "</style>\n",
       "<table border=\"1\" class=\"dataframe\">\n",
       "  <thead>\n",
       "    <tr style=\"text-align: right;\">\n",
       "      <th></th>\n",
       "      <th>permalink</th>\n",
       "      <th>name</th>\n",
       "      <th>homepage_url</th>\n",
       "      <th>category_list</th>\n",
       "      <th>status</th>\n",
       "      <th>country_code</th>\n",
       "      <th>state_code</th>\n",
       "      <th>region</th>\n",
       "      <th>city</th>\n",
       "      <th>founded_date</th>\n",
       "      <th>funding_round_permalink</th>\n",
       "      <th>funding_round_type</th>\n",
       "      <th>funding_round_code</th>\n",
       "      <th>funded_at</th>\n",
       "      <th>raised_amount_usd</th>\n",
       "    </tr>\n",
       "  </thead>\n",
       "  <tbody>\n",
       "    <tr>\n",
       "      <th>0</th>\n",
       "      <td>/organization/-qounter</td>\n",
       "      <td>:qounter</td>\n",
       "      <td>http://www.qounter.com</td>\n",
       "      <td>application platforms|real time|social network...</td>\n",
       "      <td>Operating</td>\n",
       "      <td>USA</td>\n",
       "      <td>DE</td>\n",
       "      <td>De - Other</td>\n",
       "      <td>Delaware City</td>\n",
       "      <td>2014-04-09</td>\n",
       "      <td>/funding-round/22dacff496eb7acb2b901dec1dfe5633</td>\n",
       "      <td>Venture</td>\n",
       "      <td>A</td>\n",
       "      <td>2014-10-14</td>\n",
       "      <td>NaN</td>\n",
       "    </tr>\n",
       "    <tr>\n",
       "      <th>1</th>\n",
       "      <td>/organization/-qounter</td>\n",
       "      <td>:qounter</td>\n",
       "      <td>http://www.qounter.com</td>\n",
       "      <td>application platforms|real time|social network...</td>\n",
       "      <td>Operating</td>\n",
       "      <td>USA</td>\n",
       "      <td>DE</td>\n",
       "      <td>De - Other</td>\n",
       "      <td>Delaware City</td>\n",
       "      <td>2014-04-09</td>\n",
       "      <td>/funding-round/b44fbb94153f6cdef13083530bb48030</td>\n",
       "      <td>Seed</td>\n",
       "      <td>NaN</td>\n",
       "      <td>2014-01-03</td>\n",
       "      <td>700000.0</td>\n",
       "    </tr>\n",
       "    <tr>\n",
       "      <th>2</th>\n",
       "      <td>/organization/0-6-com</td>\n",
       "      <td>0-6.com</td>\n",
       "      <td>http://www.0-6.com</td>\n",
       "      <td>curated web</td>\n",
       "      <td>Operating</td>\n",
       "      <td>CHN</td>\n",
       "      <td>22</td>\n",
       "      <td>Beijing</td>\n",
       "      <td>Beijing</td>\n",
       "      <td>2007-01-01</td>\n",
       "      <td>/funding-round/5727accaeaa57461bd22a9bdd945382d</td>\n",
       "      <td>Venture</td>\n",
       "      <td>A</td>\n",
       "      <td>2008-03-19</td>\n",
       "      <td>2000000.0</td>\n",
       "    </tr>\n",
       "    <tr>\n",
       "      <th>3</th>\n",
       "      <td>/organization/004-technologies</td>\n",
       "      <td>004 technologies</td>\n",
       "      <td>http://004gmbh.de/en/004-interact</td>\n",
       "      <td>software</td>\n",
       "      <td>Operating</td>\n",
       "      <td>USA</td>\n",
       "      <td>IL</td>\n",
       "      <td>Springfield, Illinois</td>\n",
       "      <td>Champaign</td>\n",
       "      <td>2010-01-01</td>\n",
       "      <td>/funding-round/1278dd4e6a37fa4b7d7e06c21b3c1830</td>\n",
       "      <td>Venture</td>\n",
       "      <td>NaN</td>\n",
       "      <td>2014-07-24</td>\n",
       "      <td>NaN</td>\n",
       "    </tr>\n",
       "    <tr>\n",
       "      <th>4</th>\n",
       "      <td>/organization/0ndine-biomedical-inc</td>\n",
       "      <td>ondine biomedical inc.</td>\n",
       "      <td>http://ondinebio.com</td>\n",
       "      <td>biotechnology</td>\n",
       "      <td>Operating</td>\n",
       "      <td>CAN</td>\n",
       "      <td>BC</td>\n",
       "      <td>Vancouver</td>\n",
       "      <td>Vancouver</td>\n",
       "      <td>1997-01-01</td>\n",
       "      <td>/funding-round/2b9d3ac293d5cdccbecff5c8cb0f327d</td>\n",
       "      <td>Seed</td>\n",
       "      <td>NaN</td>\n",
       "      <td>2009-11-09</td>\n",
       "      <td>43360.0</td>\n",
       "    </tr>\n",
       "  </tbody>\n",
       "</table>\n",
       "</div>"
      ],
      "text/plain": [
       "                             permalink                    name  \\\n",
       "0               /organization/-qounter                :qounter   \n",
       "1               /organization/-qounter                :qounter   \n",
       "2                /organization/0-6-com                 0-6.com   \n",
       "3       /organization/004-technologies        004 technologies   \n",
       "4  /organization/0ndine-biomedical-inc  ondine biomedical inc.   \n",
       "\n",
       "                        homepage_url  \\\n",
       "0             http://www.qounter.com   \n",
       "1             http://www.qounter.com   \n",
       "2                 http://www.0-6.com   \n",
       "3  http://004gmbh.de/en/004-interact   \n",
       "4               http://ondinebio.com   \n",
       "\n",
       "                                       category_list     status country_code  \\\n",
       "0  application platforms|real time|social network...  Operating          USA   \n",
       "1  application platforms|real time|social network...  Operating          USA   \n",
       "2                                        curated web  Operating          CHN   \n",
       "3                                           software  Operating          USA   \n",
       "4                                      biotechnology  Operating          CAN   \n",
       "\n",
       "  state_code                 region           city founded_date  \\\n",
       "0         DE             De - Other  Delaware City   2014-04-09   \n",
       "1         DE             De - Other  Delaware City   2014-04-09   \n",
       "2         22                Beijing        Beijing   2007-01-01   \n",
       "3         IL  Springfield, Illinois      Champaign   2010-01-01   \n",
       "4         BC              Vancouver      Vancouver   1997-01-01   \n",
       "\n",
       "                           funding_round_permalink funding_round_type  \\\n",
       "0  /funding-round/22dacff496eb7acb2b901dec1dfe5633            Venture   \n",
       "1  /funding-round/b44fbb94153f6cdef13083530bb48030               Seed   \n",
       "2  /funding-round/5727accaeaa57461bd22a9bdd945382d            Venture   \n",
       "3  /funding-round/1278dd4e6a37fa4b7d7e06c21b3c1830            Venture   \n",
       "4  /funding-round/2b9d3ac293d5cdccbecff5c8cb0f327d               Seed   \n",
       "\n",
       "  funding_round_code  funded_at  raised_amount_usd  \n",
       "0                  A 2014-10-14                NaN  \n",
       "1                NaN 2014-01-03           700000.0  \n",
       "2                  A 2008-03-19          2000000.0  \n",
       "3                NaN 2014-07-24                NaN  \n",
       "4                NaN 2009-11-09            43360.0  "
      ]
     },
     "execution_count": 29,
     "metadata": {},
     "output_type": "execute_result"
    }
   ],
   "source": [
    "# Merge companies_df with investments_df\n",
    "merged_df = pd.merge(companies_df, investment_df, how='inner', left_on='permalink', right_on='company_permalink')\n",
    "merged_df = merged_df.drop(['company_permalink'], axis=1)\n",
    "merged_df.head()"
   ]
  },
  {
   "cell_type": "markdown",
   "id": "a667973b",
   "metadata": {},
   "source": [
    "# Save the DataFrame as csv"
   ]
  },
  {
   "cell_type": "code",
   "execution_count": 30,
   "id": "eec5bab5",
   "metadata": {},
   "outputs": [],
   "source": [
    "merged_df.to_csv(\"merged_df_1.csv\", sep=',', index=False)"
   ]
  },
  {
   "cell_type": "code",
   "execution_count": 31,
   "id": "0f2840bf",
   "metadata": {},
   "outputs": [
    {
     "name": "stdout",
     "output_type": "stream",
     "text": [
      "<class 'pandas.core.frame.DataFrame'>\n",
      "Int64Index: 94415 entries, 0 to 94414\n",
      "Data columns (total 15 columns):\n",
      " #   Column                   Non-Null Count  Dtype         \n",
      "---  ------                   --------------  -----         \n",
      " 0   permalink                94415 non-null  object        \n",
      " 1   name                     94414 non-null  object        \n",
      " 2   homepage_url             90984 non-null  object        \n",
      " 3   category_list            92838 non-null  object        \n",
      " 4   status                   94415 non-null  object        \n",
      " 5   country_code             89461 non-null  object        \n",
      " 6   state_code               87804 non-null  object        \n",
      " 7   region                   88539 non-null  object        \n",
      " 8   city                     88541 non-null  object        \n",
      " 9   founded_date             94415 non-null  datetime64[ns]\n",
      " 10  funding_round_permalink  94415 non-null  object        \n",
      " 11  funding_round_type       94415 non-null  object        \n",
      " 12  funding_round_code       25937 non-null  object        \n",
      " 13  funded_at                94415 non-null  datetime64[ns]\n",
      " 14  raised_amount_usd        78985 non-null  float64       \n",
      "dtypes: datetime64[ns](2), float64(1), object(12)\n",
      "memory usage: 11.5+ MB\n"
     ]
    }
   ],
   "source": [
    "merged_df.info()"
   ]
  },
  {
   "cell_type": "markdown",
   "id": "044ac1d5",
   "metadata": {},
   "source": [
    "**Pre-Processing Question c)** What is the count of records in the merged dataset?\n",
    "\n",
    "94415"
   ]
  },
  {
   "cell_type": "code",
   "execution_count": 39,
   "id": "667ff885",
   "metadata": {},
   "outputs": [],
   "source": [
    "average_funding = merged_df.groupby(by='funding_round_type').raised_amount_usd.agg(['mean'])\n",
    "average_funding['mean'] = average_funding['mean']/1000000\n",
    "average_funding = average_funding.rename(columns={'mean':'Average Funding Amount (million USD)'})"
   ]
  },
  {
   "cell_type": "code",
   "execution_count": 40,
   "id": "cfe0ff7c",
   "metadata": {
    "scrolled": false
   },
   "outputs": [
    {
     "data": {
      "text/html": [
       "<div>\n",
       "<style scoped>\n",
       "    .dataframe tbody tr th:only-of-type {\n",
       "        vertical-align: middle;\n",
       "    }\n",
       "\n",
       "    .dataframe tbody tr th {\n",
       "        vertical-align: top;\n",
       "    }\n",
       "\n",
       "    .dataframe thead th {\n",
       "        text-align: right;\n",
       "    }\n",
       "</style>\n",
       "<table border=\"1\" class=\"dataframe\">\n",
       "  <thead>\n",
       "    <tr style=\"text-align: right;\">\n",
       "      <th></th>\n",
       "      <th>Average Funding Amount (million USD)</th>\n",
       "    </tr>\n",
       "    <tr>\n",
       "      <th>funding_round_type</th>\n",
       "      <th></th>\n",
       "    </tr>\n",
       "  </thead>\n",
       "  <tbody>\n",
       "    <tr>\n",
       "      <th>Post_Ipo_Debt</th>\n",
       "      <td>147.282347</td>\n",
       "    </tr>\n",
       "    <tr>\n",
       "      <th>Post_Ipo_Equity</th>\n",
       "      <td>92.958235</td>\n",
       "    </tr>\n",
       "    <tr>\n",
       "      <th>Private_Equity</th>\n",
       "      <td>72.180767</td>\n",
       "    </tr>\n",
       "    <tr>\n",
       "      <th>Secondary_Market</th>\n",
       "      <td>61.643094</td>\n",
       "    </tr>\n",
       "    <tr>\n",
       "      <th>Undisclosed</th>\n",
       "      <td>18.137648</td>\n",
       "    </tr>\n",
       "    <tr>\n",
       "      <th>Debt_Financing</th>\n",
       "      <td>17.305244</td>\n",
       "    </tr>\n",
       "    <tr>\n",
       "      <th>Venture</th>\n",
       "      <td>12.174926</td>\n",
       "    </tr>\n",
       "    <tr>\n",
       "      <th>Grant</th>\n",
       "      <td>4.188877</td>\n",
       "    </tr>\n",
       "    <tr>\n",
       "      <th>Convertible_Note</th>\n",
       "      <td>1.303495</td>\n",
       "    </tr>\n",
       "    <tr>\n",
       "      <th>Product_Crowdfunding</th>\n",
       "      <td>1.121449</td>\n",
       "    </tr>\n",
       "    <tr>\n",
       "      <th>Angel</th>\n",
       "      <td>0.928617</td>\n",
       "    </tr>\n",
       "    <tr>\n",
       "      <th>Seed</th>\n",
       "      <td>0.736655</td>\n",
       "    </tr>\n",
       "    <tr>\n",
       "      <th>Equity_Crowdfunding</th>\n",
       "      <td>0.514926</td>\n",
       "    </tr>\n",
       "    <tr>\n",
       "      <th>Non_Equity_Assistance</th>\n",
       "      <td>0.211365</td>\n",
       "    </tr>\n",
       "  </tbody>\n",
       "</table>\n",
       "</div>"
      ],
      "text/plain": [
       "                       Average Funding Amount (million USD)\n",
       "funding_round_type                                         \n",
       "Post_Ipo_Debt                                    147.282347\n",
       "Post_Ipo_Equity                                   92.958235\n",
       "Private_Equity                                    72.180767\n",
       "Secondary_Market                                  61.643094\n",
       "Undisclosed                                       18.137648\n",
       "Debt_Financing                                    17.305244\n",
       "Venture                                           12.174926\n",
       "Grant                                              4.188877\n",
       "Convertible_Note                                   1.303495\n",
       "Product_Crowdfunding                               1.121449\n",
       "Angel                                              0.928617\n",
       "Seed                                               0.736655\n",
       "Equity_Crowdfunding                                0.514926\n",
       "Non_Equity_Assistance                              0.211365"
      ]
     },
     "execution_count": 40,
     "metadata": {},
     "output_type": "execute_result"
    }
   ],
   "source": [
    "average_funding.sort_values(by='Average Funding Amount (million USD)', ascending=False)"
   ]
  },
  {
   "cell_type": "markdown",
   "id": "90d63270",
   "metadata": {},
   "source": [
    "**Pre-Processing Question d)** What is the average funding amount by fund type?\n",
    "\n",
    "Table shown above. Highest average funding amount was for Post IPO Debt."
   ]
  }
 ],
 "metadata": {
  "kernelspec": {
   "display_name": "Python 3 (ipykernel)",
   "language": "python",
   "name": "python3"
  },
  "language_info": {
   "codemirror_mode": {
    "name": "ipython",
    "version": 3
   },
   "file_extension": ".py",
   "mimetype": "text/x-python",
   "name": "python",
   "nbconvert_exporter": "python",
   "pygments_lexer": "ipython3",
   "version": "3.9.7"
  }
 },
 "nbformat": 4,
 "nbformat_minor": 5
}
